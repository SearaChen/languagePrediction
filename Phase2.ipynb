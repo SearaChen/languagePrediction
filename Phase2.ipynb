{
 "cells": [
  {
   "cell_type": "code",
   "execution_count": 120,
   "metadata": {},
   "outputs": [],
   "source": [
    "import random\n",
    "import operator\n",
    "import numpy\n",
    "\n",
    "def checkEqual(l):\n",
    "    return all(l[0] == rest for rest in l)\n",
    "\n",
    "def entropy(y):\n",
    "    y = numpy.asarray(y,dtype='uint8')\n",
    "    counts = numpy.bincount(y)\n",
    "    counts = counts[counts > 0]\n",
    "    probs = counts / y.size\n",
    "    return -numpy.sum(probs * numpy.log2(probs))\n",
    "    \n",
    "\n",
    "def findBestTest(f,y):\n",
    "    f,y = zip(*sorted(zip(f,y)))\n",
    "    n=len(y)\n",
    "    index, value = min([(i,(i*entropy(y[:i-1]) + (n-i)*entropy(y[i:]))/n) \n",
    "                                for i in range(1,n) if y[i]!=y[i-1]], key=operator.itemgetter(1))\n",
    "    return (f[index]+f[index-1])/2 , value\n",
    "\n",
    "class node:\n",
    "    random_m = None\n",
    "    def __init__(self,x,y):\n",
    "        if checkEqual(y): #at leaf\n",
    "            self.label = y[0]\n",
    "            self.feature = None\n",
    "            self.test = None\n",
    "            self.entropy = 0\n",
    "            self.leftBranch = None\n",
    "            self.rightBranch = None\n",
    "        else:\n",
    "            self.feature, self.test, self.entropy = min(\n",
    "                    [(i,*findBestTest(f,y)) for i,f in enumerate(\n",
    "                            #random.sample(list(map(list, zip(*x))),self.random_m))], key=operator.itemgetter(2))\n",
    "                            list(map(list, zip(*x))))], key=operator.itemgetter(2))\n",
    "            \n",
    "            n = len(y)\n",
    "            self.setRightBranch(node(*zip(*[(x[i],y[i]) for i in range(n) if x[i][self.feature] >= self.test])))\n",
    "            self.setLeftBranch(node(*zip(*[(x[i],y[i]) for i in range(n) if x[i][self.feature] < self.test])))\n",
    "\n",
    "            \n",
    "    def evaluateExample(self,x):\n",
    "        if self.feature is None: #at leaf\n",
    "            return self.label\n",
    "        elif x[self.feature] >= self.test:\n",
    "            return self.getRightBranch().evaluateExample(x)\n",
    "        else:\n",
    "            return self.getLeftBranch().evaluateExample(x)\n",
    "            \n",
    "#     def getData(self):\n",
    "#         return self.data\n",
    "    \n",
    "#     def setData(self,newdata):\n",
    "#         self.data = newdata\n",
    "        \n",
    "    def getLeftBranch(self):\n",
    "        return self.leftBranch\n",
    "    \n",
    "    def getRightBranch(self):\n",
    "        return self.rightBranch\n",
    "\n",
    "    def setLeftBranch(self, leftBranch):\n",
    "        self.leftBranch = leftBranch\n",
    "    \n",
    "    def setRightBranch(self, rightBranch):\n",
    "        self.rightBranch = rightBranch\n",
    "        \n",
    "class randomForestTree:\n",
    "    def __init__(self,x,y,m,K):\n",
    "        node.random_m = m\n",
    "        n = len(y)\n",
    "        #self.trees = [node(*zip(*[(x[i],y[i]) for i in random.choices(range(n),k=n)])) for i in range(K)]\n",
    "        self.trees = [node(*zip(*[(x[i],y[i]) for i in range(n)])) for i in range(K)]\n",
    "        \n",
    "    def predict(self,x):\n",
    "        votes = [t.evaluateExample(x) for t in self.trees]\n",
    "        return max(set(votes), key=votes.count)"
   ]
  },
  {
   "cell_type": "code",
   "execution_count": 141,
   "metadata": {},
   "outputs": [
    {
     "data": {
      "text/plain": [
       "0"
      ]
     },
     "execution_count": 141,
     "metadata": {},
     "output_type": "execute_result"
    }
   ],
   "source": [
    "#import randomForestTree\n",
    "\n",
    "X = [[0, 0], [1, 1]]\n",
    "Y = [0, 1]\n",
    "z = [0,0]\n",
    "model = randomForestTree(X,Y,2,1)\n",
    "model.predict(z)"
   ]
  }
 ],
 "metadata": {
  "kernelspec": {
   "display_name": "Python 3",
   "language": "python",
   "name": "python3"
  },
  "language_info": {
   "codemirror_mode": {
    "name": "ipython",
    "version": 3
   },
   "file_extension": ".py",
   "mimetype": "text/x-python",
   "name": "python",
   "nbconvert_exporter": "python",
   "pygments_lexer": "ipython3",
   "version": "3.6.2"
  }
 },
 "nbformat": 4,
 "nbformat_minor": 2
}
